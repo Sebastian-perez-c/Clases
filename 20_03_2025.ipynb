{
 "cells": [
  {
   "cell_type": "code",
   "execution_count": 1,
   "id": "0bcfd126-bfed-4d6a-bc53-ca9821bcf414",
   "metadata": {},
   "outputs": [],
   "source": [
    "def funcion(x, y, z):\n",
    "    print(x,y,z);\n",
    "    "
   ]
  },
  {
   "cell_type": "code",
   "execution_count": 2,
   "id": "e45a5457-d61f-4fe9-bce0-06787391bb2a",
   "metadata": {},
   "outputs": [
    {
     "name": "stdout",
     "output_type": "stream",
     "text": [
      "2 3 5\n"
     ]
    }
   ],
   "source": [
    "funcion(2, 3, 5)"
   ]
  },
  {
   "cell_type": "code",
   "execution_count": 7,
   "id": "659c6afc-26ec-4f9f-be80-c0702a38fd1e",
   "metadata": {},
   "outputs": [
    {
     "name": "stdout",
     "output_type": "stream",
     "text": [
      "1 2 3\n"
     ]
    }
   ],
   "source": [
    "funcion(1, 2, 3)"
   ]
  },
  {
   "cell_type": "code",
   "execution_count": 11,
   "id": "4a7893ff-6036-4817-8fb5-33a23b46cafe",
   "metadata": {},
   "outputs": [],
   "source": [
    "def funcion (x, y, z = None):\n",
    "    print(x, y , z)"
   ]
  },
  {
   "cell_type": "code",
   "execution_count": 12,
   "id": "da8af3ce-01c7-4b08-acd6-f3c34aa0a821",
   "metadata": {},
   "outputs": [
    {
     "name": "stdout",
     "output_type": "stream",
     "text": [
      "4 5 None\n"
     ]
    }
   ],
   "source": [
    "funcion(4, 5)"
   ]
  },
  {
   "cell_type": "code",
   "execution_count": 13,
   "id": "af53c3ed-0cce-492a-b962-d7267b4bf73a",
   "metadata": {},
   "outputs": [
    {
     "name": "stdout",
     "output_type": "stream",
     "text": [
      "1 3 4\n"
     ]
    }
   ],
   "source": [
    "funcion(z = 4, x = 1, y = 3)"
   ]
  },
  {
   "cell_type": "code",
   "execution_count": 15,
   "id": "b45066f7-df45-44e6-ba81-a6ecf1bd8453",
   "metadata": {},
   "outputs": [],
   "source": [
    "def funcion (x, y, *, z):\n",
    "    print(x,y,z)"
   ]
  },
  {
   "cell_type": "code",
   "execution_count": 20,
   "id": "cad6e6e8-19f5-429b-90ee-836c56e2ea36",
   "metadata": {},
   "outputs": [
    {
     "name": "stdout",
     "output_type": "stream",
     "text": [
      "1 2 73\n"
     ]
    }
   ],
   "source": [
    "funcion (1,2,z = 73)"
   ]
  },
  {
   "cell_type": "code",
   "execution_count": 22,
   "id": "fa4ee86d-ef7b-47de-a5d2-ab441fe52247",
   "metadata": {},
   "outputs": [],
   "source": [
    "def funcion(x,/,y,*,z):\n",
    "    print(x, y, z)"
   ]
  },
  {
   "cell_type": "code",
   "execution_count": 25,
   "id": "635a175e-9e77-4dc8-b5cf-7b4941285d8b",
   "metadata": {},
   "outputs": [
    {
     "name": "stdout",
     "output_type": "stream",
     "text": [
      "4 2 3\n"
     ]
    }
   ],
   "source": [
    "funcion (4, y = 2, z = 3)"
   ]
  },
  {
   "cell_type": "code",
   "execution_count": 27,
   "id": "e03768eb-d56a-4914-b9fa-7511bf39ee0b",
   "metadata": {},
   "outputs": [
    {
     "name": "stdout",
     "output_type": "stream",
     "text": [
      "12\t31\t42\n"
     ]
    }
   ],
   "source": [
    "print(12,31,42,sep='\\t')"
   ]
  },
  {
   "cell_type": "code",
   "execution_count": 28,
   "id": "4c1cbb5a-4a25-4ef1-8ebe-dc52106e51d7",
   "metadata": {},
   "outputs": [],
   "source": [
    "def funcion(*tupla):\n",
    "    print(tupla)\n",
    "    for elemento in tupla:\n",
    "        print(elemento)\n",
    "    "
   ]
  },
  {
   "cell_type": "code",
   "execution_count": 29,
   "id": "75e46180-d6f6-4042-ace2-267644468b43",
   "metadata": {},
   "outputs": [
    {
     "name": "stdout",
     "output_type": "stream",
     "text": [
      "()\n"
     ]
    }
   ],
   "source": [
    "funcion()"
   ]
  },
  {
   "cell_type": "code",
   "execution_count": 30,
   "id": "14e6d611-873e-475e-afcd-e4b92611c5bd",
   "metadata": {},
   "outputs": [
    {
     "name": "stdout",
     "output_type": "stream",
     "text": [
      "(2, 5, 6, 546)\n",
      "2\n",
      "5\n",
      "6\n",
      "546\n"
     ]
    }
   ],
   "source": [
    "funcion (2, 5 ,6,546)"
   ]
  },
  {
   "cell_type": "code",
   "execution_count": 31,
   "id": "dccacc9a-5429-4b8e-b1a1-72e9063ad509",
   "metadata": {},
   "outputs": [],
   "source": [
    "iterable = (\"hola\", 358, None, True, \"sads\", 5512)"
   ]
  },
  {
   "cell_type": "code",
   "execution_count": 37,
   "id": "1d68b56a-5a85-43e3-bdb6-f7c6358ec2c7",
   "metadata": {},
   "outputs": [
    {
     "name": "stdout",
     "output_type": "stream",
     "text": [
      "hola\t358\tNone\tTrue\tsads\t5512\n"
     ]
    }
   ],
   "source": [
    "print(*iterable, sep = '\\t')"
   ]
  },
  {
   "cell_type": "code",
   "execution_count": 53,
   "id": "7ffe7a9e-450d-4c62-a3d0-58fe52fc783d",
   "metadata": {},
   "outputs": [],
   "source": [
    "def funcion(**cosas):\n",
    "    print(cosas)\n",
    "    for cosa in cosas:\n",
    "        print(f'{cosa} -> {cosas[cosa]}')"
   ]
  },
  {
   "cell_type": "code",
   "execution_count": 54,
   "id": "24e08020-c546-45e6-a779-e36dd5812a6b",
   "metadata": {},
   "outputs": [
    {
     "name": "stdout",
     "output_type": "stream",
     "text": [
      "{'seat': 'Blanco', 'fiat': 'Azul', 'ford': 'Negro'}\n",
      "seat -> Blanco\n",
      "fiat -> Azul\n",
      "ford -> Negro\n"
     ]
    }
   ],
   "source": [
    "funcion(seat = 'Blanco', fiat = 'Azul', ford= 'Negro')"
   ]
  },
  {
   "cell_type": "code",
   "execution_count": 58,
   "id": "ffa0bd37-5e68-4cea-ac74-0d40d126cd0f",
   "metadata": {},
   "outputs": [],
   "source": [
    "opciones = {\n",
    "    'sep': \"\\t\",\n",
    "    'end': \"  ... \\n\",\n",
    "}"
   ]
  },
  {
   "cell_type": "code",
   "execution_count": 59,
   "id": "0cb4ded9-cbc3-4409-b709-a0b781d75886",
   "metadata": {},
   "outputs": [
    {
     "name": "stdout",
     "output_type": "stream",
     "text": [
      "1\t4\t3\t2  ... \n"
     ]
    }
   ],
   "source": [
    "print(1,4,3,2,**opciones)"
   ]
  },
  {
   "cell_type": "code",
   "execution_count": 60,
   "id": "2c6a05d0-634f-497f-b422-bb8b8d962dfa",
   "metadata": {},
   "outputs": [],
   "source": [
    "def funcion(funcion, *vargs, **diccionario):\n",
    "    funcion(*vargs, **diccionario)"
   ]
  },
  {
   "cell_type": "code",
   "execution_count": 62,
   "id": "70a0f935-29cc-43c3-866a-67280e1fbf4b",
   "metadata": {},
   "outputs": [
    {
     "name": "stdout",
     "output_type": "stream",
     "text": [
      "4\t5\t6\n"
     ]
    }
   ],
   "source": [
    "funcion(print, 4,5,6, sep = '\\t')"
   ]
  },
  {
   "cell_type": "code",
   "execution_count": null,
   "id": "46fb99e2-9519-4202-acd6-f192fcd8312a",
   "metadata": {},
   "outputs": [],
   "source": []
  }
 ],
 "metadata": {
  "kernelspec": {
   "display_name": "Python 3 (ipykernel)",
   "language": "python",
   "name": "python3"
  },
  "language_info": {
   "codemirror_mode": {
    "name": "ipython",
    "version": 3
   },
   "file_extension": ".py",
   "mimetype": "text/x-python",
   "name": "python",
   "nbconvert_exporter": "python",
   "pygments_lexer": "ipython3",
   "version": "3.12.4"
  }
 },
 "nbformat": 4,
 "nbformat_minor": 5
}
